{
  "cells": [
    {
      "cell_type": "code",
      "execution_count": null,
      "metadata": {
        "collapsed": false
      },
      "outputs": [],
      "source": [
        "%matplotlib inline"
      ]
    },
    {
      "cell_type": "markdown",
      "metadata": {},
      "source": [
        "\n# Block Pointer (Experimental)\nThis tutorial will guide you through writing a matrix multiplication algorithm that utilizes block pointer semantics.\nThese semantics are more friendly for Triton to optimize and can result in better performance on specific hardware.\nNote that this feature is still experimental and may change in the future.\n"
      ]
    },
    {
      "cell_type": "markdown",
      "metadata": {},
      "source": [
        "## Motivations\nIn the previous matrix multiplication tutorial, we constructed blocks of values by de-referencing blocks of pointers,\ni.e., :code:`load(block<pointer_type<element_type>>) -> block<element_type>`, which involved loading blocks of\nelements from memory. This approach allowed for flexibility in using hardware-managed cache and implementing complex\ndata structures, such as tensors of trees or unstructured look-up tables.\n\nHowever, the drawback of this approach is that it relies heavily on complex optimization passes by the compiler to\noptimize memory access patterns. This can result in brittle code that may suffer from performance degradation when the\noptimizer fails to perform adequately. Additionally, as memory controllers specialize to accommodate dense spatial\ndata structures commonly used in machine learning workloads, this problem is likely to worsen.\n\nTo address this issue, we will use block pointers :code:`pointer_type<block<element_type>>` and load them into\n:code:`block<element_type>`, in which way gives better friendliness for the compiler to optimize memory access\npatterns.\n\nLet's start with the previous matrix multiplication example and demonstrate how to rewrite it to utilize block pointer\nsemantics.\n\n"
      ]
    },
    {
      "cell_type": "markdown",
      "metadata": {},
      "source": [
        "## Make a Block Pointer\nA block pointer pointers to a block in a parent tensor and is constructed by :code:`make_block_ptr` function,\nwhich takes the following information as arguments:\n\n* :code:`base`: the base pointer to the parent tensor;\n\n* :code:`shape`: the shape of the parent tensor;\n\n* :code:`strides`: the strides of the parent tensor, which means how much to increase the pointer by when moving by 1 element in a specific axis;\n\n* :code:`offsets`: the offsets of the block;\n\n* :code:`block_shape`: the shape of the block;\n\n* :code:`order`: the order of the block, which means how the block is laid out in memory.\n\nFor example, to a block pointer to a :code:`BLOCK_SIZE_M * BLOCK_SIZE_K` block in a row-major 2D matrix A by\noffsets :code:`(pid_m * BLOCK_SIZE_M, 0)` and strides :code:`(stride_am, stride_ak)`, we can use the following code\n(exactly the same as the previous matrix multiplication tutorial):\n\n```python\na_block_ptr = tl.make_block_ptr(base=a_ptr, shape=(M, K), strides=(stride_am, stride_ak),\n                                offsets=(pid_m * BLOCK_SIZE_M, 0), block_shape=(BLOCK_SIZE_M, BLOCK_SIZE_K),\n                                order=(1, 0))\n```\nNote that the :code:`order` argument is set to :code:`(1, 0)`, which means the second axis is the inner dimension in\nterms of storage, and the first axis is the outer dimension. This information may sound redundant, but it is necessary\nfor some hardware backends to optimize for better performance.\n\n"
      ]
    },
    {
      "cell_type": "markdown",
      "metadata": {},
      "source": [
        "## Load/Store a Block Pointer\nTo load/store a block pointer, we can use :code:`load/store` function, which takes a block pointer as an argument,\nde-references it, and loads/stores a block. You may mask some values in the block, here we have an extra argument\n:code:`boundary_check` to specify whether to check the boundary of each axis for the block pointer. With check on,\nout-of-bound values will be masked according to the :code:`padding_option` argument (load only), which can be\n:code:`zero` or :code:`nan`. Temporarily, we do not support other values due to some hardware limitations. In this\nmode of block pointer load/store does not support :code:`mask` or :code:`other` arguments in the legacy mode.\n\nSo to load the block pointer of A in the previous section, we can simply write\n:code:`a = tl.load(a_block_ptr, boundary_check=(0, 1))`. Boundary check may cost extra performance, so if you can\nguarantee that the block pointer is always in-bound in some axis, you can turn off the check by not passing the index\ninto the :code:`boundary_check` argument. For example, if we know that :code:`M` is a multiple of\n:code:`BLOCK_SIZE_M`, we can replace with :code:`a = tl.load(a_block_ptr, boundary_check=(1, ))`, since axis 0 is\nalways in bound.\n\n"
      ]
    },
    {
      "cell_type": "markdown",
      "metadata": {},
      "source": [
        "## Advance a Block Pointer\nTo advance a block pointer, we can use :code:`advance` function, which takes a block pointer and the increment for\neach axis as arguments and returns a new block pointer with the same shape and strides as the original one,\nbut with the offsets advanced by the specified amount.\n\nFor example, to advance the block pointer by :code:`BLOCK_SIZE_K` in the second axis\n(no need to multiply with strides), we can write :code:`a_block_ptr = tl.advance(a_block_ptr, (0, BLOCK_SIZE_K))`.\n\n"
      ]
    },
    {
      "cell_type": "markdown",
      "metadata": {},
      "source": [
        "## Final Result\n\n"
      ]
    },
    {
      "cell_type": "code",
      "execution_count": null,
      "metadata": {
        "collapsed": false
      },
      "outputs": [],
      "source": [
        "import torch\n\nimport triton\nimport triton.language as tl\n\n\n@triton.autotune(\n    configs=[\n        triton.Config({'BLOCK_SIZE_M': 128, 'BLOCK_SIZE_N': 256, 'BLOCK_SIZE_K': 64, 'GROUP_SIZE_M': 8}, num_stages=4,\n                      num_warps=4),\n        triton.Config({'BLOCK_SIZE_M': 64, 'BLOCK_SIZE_N': 256, 'BLOCK_SIZE_K': 32, 'GROUP_SIZE_M': 8}, num_stages=4,\n                      num_warps=4),\n        triton.Config({'BLOCK_SIZE_M': 128, 'BLOCK_SIZE_N': 128, 'BLOCK_SIZE_K': 32, 'GROUP_SIZE_M': 8}, num_stages=4,\n                      num_warps=4),\n        triton.Config({'BLOCK_SIZE_M': 128, 'BLOCK_SIZE_N': 64, 'BLOCK_SIZE_K': 32, 'GROUP_SIZE_M': 8}, num_stages=4,\n                      num_warps=4),\n        triton.Config({'BLOCK_SIZE_M': 64, 'BLOCK_SIZE_N': 128, 'BLOCK_SIZE_K': 32, 'GROUP_SIZE_M': 8}, num_stages=4,\n                      num_warps=4),\n        triton.Config({'BLOCK_SIZE_M': 128, 'BLOCK_SIZE_N': 32, 'BLOCK_SIZE_K': 32, 'GROUP_SIZE_M': 8}, num_stages=4,\n                      num_warps=4),\n        triton.Config({'BLOCK_SIZE_M': 64, 'BLOCK_SIZE_N': 32, 'BLOCK_SIZE_K': 32, 'GROUP_SIZE_M': 8}, num_stages=5,\n                      num_warps=2),\n        triton.Config({'BLOCK_SIZE_M': 32, 'BLOCK_SIZE_N': 64, 'BLOCK_SIZE_K': 32, 'GROUP_SIZE_M': 8}, num_stages=5,\n                      num_warps=2),\n    ],\n    key=['M', 'N', 'K'],\n)\n@triton.jit\ndef matmul_kernel_with_block_pointers(\n        # Pointers to matrices\n        a_ptr, b_ptr, c_ptr,\n        # Matrix dimensions\n        M, N, K,\n        # The stride variables represent how much to increase the ptr by when moving by 1\n        # element in a particular dimension. E.g. `stride_am` is how much to increase `a_ptr`\n        # by to get the element one row down (A has M rows).\n        stride_am, stride_ak,  #\n        stride_bk, stride_bn,  #\n        stride_cm, stride_cn,\n        # Meta-parameters\n        BLOCK_SIZE_M: tl.constexpr, BLOCK_SIZE_N: tl.constexpr, BLOCK_SIZE_K: tl.constexpr, GROUP_SIZE_M: tl.constexpr):\n    \"\"\"Kernel for computing the matmul C = A x B.\n    A has shape (M, K), B has shape (K, N) and C has shape (M, N)\n    \"\"\"\n    # -----------------------------------------------------------\n    # Map program ids `pid` to the block of C it should compute.\n    # This is done in a grouped ordering to promote L2 data reuse.\n    # See the matrix multiplication tutorial for details.\n    pid = tl.program_id(axis=0)\n    num_pid_m = tl.cdiv(M, BLOCK_SIZE_M)\n    num_pid_n = tl.cdiv(N, BLOCK_SIZE_N)\n    num_pid_in_group = GROUP_SIZE_M * num_pid_n\n    group_id = pid // num_pid_in_group\n    first_pid_m = group_id * GROUP_SIZE_M\n    group_size_m = min(num_pid_m - first_pid_m, GROUP_SIZE_M)\n    pid_m = first_pid_m + (pid % group_size_m)\n    pid_n = (pid % num_pid_in_group) // group_size_m\n\n    # ----------------------------------------------------------\n    # Create block pointers for the first blocks of A and B.\n    # We will advance this pointer as we move in the K direction and accumulate.\n    # See above `Make a Block Pointer` section for details.\n    a_block_ptr = tl.make_block_ptr(base=a_ptr, shape=(M, K), strides=(stride_am, stride_ak),\n                                    offsets=(pid_m * BLOCK_SIZE_M, 0), block_shape=(BLOCK_SIZE_M, BLOCK_SIZE_K),\n                                    order=(1, 0))\n    b_block_ptr = tl.make_block_ptr(base=b_ptr, shape=(K, N), strides=(stride_bk, stride_bn),\n                                    offsets=(0, pid_n * BLOCK_SIZE_N), block_shape=(BLOCK_SIZE_K, BLOCK_SIZE_N),\n                                    order=(1, 0))\n\n    # -----------------------------------------------------------\n    # Iterate to compute a block of the C matrix.\n    # We accumulate into a `[BLOCK_SIZE_M, BLOCK_SIZE_N]` block.\n    # of fp32 values for higher accuracy.\n    # `accumulator` will be converted back to fp16 after the loop.\n    accumulator = tl.zeros((BLOCK_SIZE_M, BLOCK_SIZE_N), dtype=tl.float32)\n    for k in range(0, K, BLOCK_SIZE_K):\n        # Load with boundary checks, no need to calculate the mask manually.\n        # For better performance, you may remove some axis from the boundary\n        # check, if you can guarantee that the access is always in-bound in\n        # that axis.\n        # See above `Load/Store a Block Pointer` section for details.\n        a = tl.load(a_block_ptr, boundary_check=(0, 1))\n        b = tl.load(b_block_ptr, boundary_check=(0, 1))\n        # We accumulate along the K dimension.\n        accumulator += tl.dot(a, b)\n        # Advance the block pointer to the next K block.\n        # See above `Advance a Block Pointer` section for details.\n        a_block_ptr = tl.advance(a_block_ptr, (0, BLOCK_SIZE_K))\n        b_block_ptr = tl.advance(b_block_ptr, (BLOCK_SIZE_K, 0))\n    c = accumulator.to(tl.float16)\n\n    # ----------------------------------------------------------------\n    # Write back the block of the output matrix C with boundary checks.\n    # See above `Load/Store a Block Pointer` section for details.\n    c_block_ptr = tl.make_block_ptr(base=c_ptr, shape=(M, N), strides=(stride_cm, stride_cn),\n                                    offsets=(pid_m * BLOCK_SIZE_M, pid_n * BLOCK_SIZE_N),\n                                    block_shape=(BLOCK_SIZE_M, BLOCK_SIZE_N), order=(1, 0))\n    tl.store(c_block_ptr, c, boundary_check=(0, 1))\n\n\n# We can now create a convenience wrapper function that only takes two input tensors,\n# and (1) checks any shape constraint; (2) allocates the output; (3) launches the above kernel.\ndef matmul(a, b):\n    # Check constraints.\n    assert a.shape[1] == b.shape[0], \"Incompatible dimensions\"\n    assert a.is_contiguous(), \"Matrix A must be contiguous\"\n    assert b.is_contiguous(), \"Matrix B must be contiguous\"\n    M, K = a.shape\n    K, N = b.shape\n    # Allocates output.\n    c = torch.empty((M, N), device=a.device, dtype=a.dtype)\n    # 1D launch kernel where each block gets its own program.\n    grid = lambda META: (triton.cdiv(M, META['BLOCK_SIZE_M']) * triton.cdiv(N, META['BLOCK_SIZE_N']), )\n    matmul_kernel_with_block_pointers[grid](\n        a, b, c,  #\n        M, N, K,  #\n        a.stride(0), a.stride(1),  #\n        b.stride(0), b.stride(1),  #\n        c.stride(0), c.stride(1))\n    return c"
      ]
    },
    {
      "cell_type": "markdown",
      "metadata": {},
      "source": [
        "## Unit Test\n\nStill we can test our matrix multiplication with block pointers against a native torch implementation (i.e., cuBLAS).\n\n"
      ]
    },
    {
      "cell_type": "code",
      "execution_count": null,
      "metadata": {
        "collapsed": false
      },
      "outputs": [],
      "source": [
        "torch.manual_seed(0)\na = torch.randn((512, 512), device='cuda', dtype=torch.float16)\nb = torch.randn((512, 512), device='cuda', dtype=torch.float16)\ntriton_output = matmul(a, b)\ntorch_output = torch.matmul(a, b)\nprint(f\"triton_output={triton_output}\")\nprint(f\"torch_output={torch_output}\")\nif torch.allclose(triton_output, torch_output, atol=1e-2, rtol=0):\n    print(\"\u2705 Triton and Torch match\")\nelse:\n    print(\"\u274c Triton and Torch differ\")"
      ]
    }
  ],
  "metadata": {
    "kernelspec": {
      "display_name": "Python 3",
      "language": "python",
      "name": "python3"
    },
    "language_info": {
      "codemirror_mode": {
        "name": "ipython",
        "version": 3
      },
      "file_extension": ".py",
      "mimetype": "text/x-python",
      "name": "python",
      "nbconvert_exporter": "python",
      "pygments_lexer": "ipython3",
      "version": "3.8.10"
    }
  },
  "nbformat": 4,
  "nbformat_minor": 0
}